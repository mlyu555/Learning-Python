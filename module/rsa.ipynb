{
 "metadata": {
  "language_info": {
   "codemirror_mode": {
    "name": "ipython",
    "version": 3
   },
   "file_extension": ".py",
   "mimetype": "text/x-python",
   "name": "python",
   "nbconvert_exporter": "python",
   "pygments_lexer": "ipython3",
   "version": "3.8.5-final"
  },
  "orig_nbformat": 2,
  "kernelspec": {
   "name": "Python 3.8.5 64-bit",
   "display_name": "Python 3.8.5 64-bit",
   "metadata": {
    "interpreter": {
     "hash": "aee8b7b246df8f9039afb4144a1f6fd8d2ca17a180786b69acc140d282b71a49"
    }
   }
  }
 },
 "nbformat": 4,
 "nbformat_minor": 2,
 "cells": [
  {
   "source": [
    "生成一对1024bit的秘钥"
   ],
   "cell_type": "markdown",
   "metadata": {}
  },
  {
   "cell_type": "code",
   "execution_count": 7,
   "metadata": {},
   "outputs": [],
   "source": [
    "from Crypto import Random\n",
    "from Crypto.PublicKey import RSA\n",
    "# 伪随机数生成器\n",
    "random_gen = Random.new().read\n",
    "\n",
    "# 生成秘钥对实例对象，秘钥长度:1024\n",
    "rsa = RSA.generate(1024, random_gen)\n",
    "\n",
    "# 获取私钥保存到文件\n",
    "private_pem = rsa.exportKey()\n",
    "with open('private.pem', 'wb') as f:\n",
    "    f.write(private_pem)\n",
    "\n",
    "# 获取公钥，保存到文件\n",
    "public_pem = rsa.publickey().exportKey()\n",
    "with open('public.pem', 'wb') as f:\n",
    "    f.write(public_pem)"
   ]
  },
  {
   "source": [
    "私钥签名"
   ],
   "cell_type": "markdown",
   "metadata": {}
  },
  {
   "cell_type": "code",
   "execution_count": 14,
   "metadata": {},
   "outputs": [
    {
     "output_type": "stream",
     "name": "stdout",
     "text": [
      "fLhsMmqH19Wvo0arJe9uSXb1diivW4IUNFjlEB1bMJvAnE2wC2IsJF3ERuYkf/KQ8/Flq2hvNT61+r9pHvK5K5JzMs+IdFBGOx/mUUHNlwMQZS9CVBa1v/W5eOFdKGoPZNG2kEmCveS0eCpOwwmuN+9XBo0VLxLLLYjhpXUM5L0=\n"
     ]
    }
   ],
   "source": [
    "from Crypto.Hash import SHA256\n",
    "from Crypto.Signature import PKCS1_PSS\n",
    "from Crypto.PublicKey import RSA\n",
    "import base64\n",
    "\n",
    "# 待签名内容\n",
    "msg = \"musen\"\n",
    "# 获取私钥\n",
    "with open('private.pem', 'r') as f:\n",
    "    key = f.read()\n",
    "rsakey = RSA.importKey(key)\n",
    "# 根据sha算法处理签名内容  (此处的hash算法不一定是sha,看开发)\n",
    "data = SHA256.new(msg.encode())\n",
    "# 私钥进行签名\n",
    "sign = PKCS1_PSS.new(rsakey).sign(data)\n",
    "# 将签名后的内容，转换为base64编码\n",
    "result = base64.b64encode(sign)\n",
    "# 签名结果转换成字符串\n",
    "data = result.decode()\n",
    "\n",
    "print(data)"
   ]
  }
 ]
}