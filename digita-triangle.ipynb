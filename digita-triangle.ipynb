{
 "cells": [
  {
   "cell_type": "code",
   "execution_count": null,
   "metadata": {},
   "outputs": [],
   "source": [
    "def digital_triangle():\n",
    "    "
   ]
  }
 ],
 "metadata": {
  "interpreter": {
   "hash": "9f649a6200ea039605ecaf929ad2a7c5db26e3417faf56abcf10110cdd118794"
  },
  "kernelspec": {
   "display_name": "Python 3.10.4 64-bit (windows store)",
   "language": "python",
   "name": "python3"
  },
  "language_info": {
   "name": "python",
   "version": "3.10.4"
  },
  "orig_nbformat": 4
 },
 "nbformat": 4,
 "nbformat_minor": 2
}
