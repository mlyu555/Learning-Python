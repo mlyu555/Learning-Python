{
 "cells": [
  {
   "cell_type": "markdown",
   "metadata": {},
   "source": [
    "Python “四舍五入”\n",
    "round需注意\n",
    "ceil 向上取整\n",
    "floor 向下取整"
   ]
  },
  {
   "cell_type": "code",
   "execution_count": 9,
   "metadata": {},
   "outputs": [
    {
     "name": "stdout",
     "output_type": "stream",
     "text": [
      "2\n",
      "2\n",
      "3\n",
      "2\n",
      "3\n",
      "2\n"
     ]
    }
   ],
   "source": [
    "import math\n",
    "x = 2.4\n",
    "y = 2.5\n",
    "\n",
    "print(round(x))\n",
    "print(round(y))\n",
    "print(math.ceil(x))\n",
    "print(math.floor(x))\n",
    "print(math.ceil(y))\n",
    "print(math.floor(y))"
   ]
  },
  {
   "cell_type": "code",
   "execution_count": null,
   "metadata": {},
   "outputs": [],
   "source": [
    "graph = {}\n",
    "graph['1']['2'] = 1\n",
    "graph['1']['3'] = 12\n",
    "\n",
    "graph['2']['3'] = 9\n",
    "graph['2']['4'] = 3\n",
    "\n",
    "graph['3']['5'] = 5\n",
    "graph['']"
   ]
  },
  {
   "cell_type": "code",
   "execution_count": null,
   "metadata": {},
   "outputs": [],
   "source": [
    "processed = []\n",
    "costs = {}\n",
    "parents = {}\n",
    "def dijkstra(graph: dict):\n",
    "    "
   ]
  }
 ],
 "metadata": {
  "interpreter": {
   "hash": "9f649a6200ea039605ecaf929ad2a7c5db26e3417faf56abcf10110cdd118794"
  },
  "kernelspec": {
   "display_name": "Python 3.10.4 64-bit (windows store)",
   "language": "python",
   "name": "python3"
  },
  "language_info": {
   "codemirror_mode": {
    "name": "ipython",
    "version": 3
   },
   "file_extension": ".py",
   "mimetype": "text/x-python",
   "name": "python",
   "nbconvert_exporter": "python",
   "pygments_lexer": "ipython3",
   "version": "3.10.4"
  },
  "orig_nbformat": 4
 },
 "nbformat": 4,
 "nbformat_minor": 2
}
