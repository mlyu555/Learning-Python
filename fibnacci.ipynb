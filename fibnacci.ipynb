{
 "cells": [
  {
   "cell_type": "code",
   "execution_count": 4,
   "metadata": {},
   "outputs": [],
   "source": [
    "def fibnacci(n):\n",
    "    if n==0 or n == 1:\n",
    "        return 1\n",
    "    else:\n",
    "        return fibnacci(n-1) + fibnacci(n-2)"
   ]
  },
  {
   "cell_type": "code",
   "execution_count": 18,
   "metadata": {},
   "outputs": [
    {
     "ename": "TypeError",
     "evalue": "'dict' object is not callable",
     "output_type": "error",
     "traceback": [
      "\u001b[1;31m---------------------------------------------------------------------------\u001b[0m",
      "\u001b[1;31mTypeError\u001b[0m                                 Traceback (most recent call last)",
      "\u001b[1;32mc:\\Users\\mlyu\\编程\\learn-python\\fibnacci.ipynb Cell 2'\u001b[0m in \u001b[0;36m<cell line: 13>\u001b[1;34m()\u001b[0m\n\u001b[0;32m      <a href='vscode-notebook-cell:/c%3A/Users/mlyu/%E7%BC%96%E7%A8%8B/learn-python/fibnacci.ipynb#ch0000002?line=8'>9</a>\u001b[0m         cache[i] \u001b[39m=\u001b[39m cache[i\u001b[39m-\u001b[39m\u001b[39m1\u001b[39m] \u001b[39m+\u001b[39m cache[i\u001b[39m-\u001b[39m\u001b[39m2\u001b[39m]\n\u001b[0;32m     <a href='vscode-notebook-cell:/c%3A/Users/mlyu/%E7%BC%96%E7%A8%8B/learn-python/fibnacci.ipynb#ch0000002?line=10'>11</a>\u001b[0m     \u001b[39mreturn\u001b[39;00m cache(n)\n\u001b[1;32m---> <a href='vscode-notebook-cell:/c%3A/Users/mlyu/%E7%BC%96%E7%A8%8B/learn-python/fibnacci.ipynb#ch0000002?line=12'>13</a>\u001b[0m \u001b[39mprint\u001b[39m(fibnacci1(\u001b[39m5\u001b[39;49m))\n",
      "\u001b[1;32mc:\\Users\\mlyu\\编程\\learn-python\\fibnacci.ipynb Cell 2'\u001b[0m in \u001b[0;36mfibnacci1\u001b[1;34m(n)\u001b[0m\n\u001b[0;32m      <a href='vscode-notebook-cell:/c%3A/Users/mlyu/%E7%BC%96%E7%A8%8B/learn-python/fibnacci.ipynb#ch0000002?line=7'>8</a>\u001b[0m \u001b[39mfor\u001b[39;00m i \u001b[39min\u001b[39;00m \u001b[39mrange\u001b[39m(\u001b[39m2\u001b[39m, n):\n\u001b[0;32m      <a href='vscode-notebook-cell:/c%3A/Users/mlyu/%E7%BC%96%E7%A8%8B/learn-python/fibnacci.ipynb#ch0000002?line=8'>9</a>\u001b[0m     cache[i] \u001b[39m=\u001b[39m cache[i\u001b[39m-\u001b[39m\u001b[39m1\u001b[39m] \u001b[39m+\u001b[39m cache[i\u001b[39m-\u001b[39m\u001b[39m2\u001b[39m]\n\u001b[1;32m---> <a href='vscode-notebook-cell:/c%3A/Users/mlyu/%E7%BC%96%E7%A8%8B/learn-python/fibnacci.ipynb#ch0000002?line=10'>11</a>\u001b[0m \u001b[39mreturn\u001b[39;00m cache(n)\n",
      "\u001b[1;31mTypeError\u001b[0m: 'dict' object is not callable"
     ]
    }
   ],
   "source": [
    "cache = {}\n",
    "def fibnacci1(n):\n",
    "    cache[0] = 1\n",
    "    cache[1] = 1\n",
    "    if n == 0 or n == 1:\n",
    "        return 1\n",
    "    \n",
    "    for i in range(2, n):\n",
    "        cache[i] = cache[i-1] + cache[i-2]\n",
    "\n",
    "    return cache(n)\n",
    "\n",
    "print(fibnacci1(5))"
   ]
  },
  {
   "cell_type": "code",
   "execution_count": 20,
   "metadata": {},
   "outputs": [],
   "source": [
    "cache = {}\n",
    "def fibnacci2(n):\n",
    "    if n == 0 or n == 1:\n",
    "        cache[0] = cache[1] = 1\n",
    "        return 1\n",
    "    \n",
    "    try:\n",
    "        return cache[n]\n",
    "    except KeyError:\n",
    "        res = fibnacci(n-1) + fibnacci(n-2)\n",
    "        cache[n] = res\n",
    "    return res"
   ]
  },
  {
   "cell_type": "code",
   "execution_count": 5,
   "metadata": {},
   "outputs": [
    {
     "name": "stdout",
     "output_type": "stream",
     "text": [
      "8\n"
     ]
    }
   ],
   "source": [
    "print(fibnacci(5))"
   ]
  },
  {
   "cell_type": "code",
   "execution_count": 21,
   "metadata": {},
   "outputs": [
    {
     "name": "stdout",
     "output_type": "stream",
     "text": [
      "8\n"
     ]
    }
   ],
   "source": [
    "print(fibnacci2(5))"
   ]
  }
 ],
 "metadata": {
  "interpreter": {
   "hash": "9f649a6200ea039605ecaf929ad2a7c5db26e3417faf56abcf10110cdd118794"
  },
  "kernelspec": {
   "display_name": "Python 3.10.4 64-bit (windows store)",
   "language": "python",
   "name": "python3"
  },
  "language_info": {
   "codemirror_mode": {
    "name": "ipython",
    "version": 3
   },
   "file_extension": ".py",
   "mimetype": "text/x-python",
   "name": "python",
   "nbconvert_exporter": "python",
   "pygments_lexer": "ipython3",
   "version": "3.10.4"
  },
  "orig_nbformat": 4
 },
 "nbformat": 4,
 "nbformat_minor": 2
}
